{
 "cells": [
  {
   "cell_type": "markdown",
   "id": "f45df497-c695-4ddf-8740-f3c2ff0ed2cc",
   "metadata": {},
   "source": [
    "# Session 3 - Part 1\n",
    "This interactive notebook demonstrates how to predict retinotopic maps from anatomical data using a geometric deep learning model of retinotopy. For more details about the model, please check [here](https://www.sciencedirect.com/science/article/pii/S1053811921008971).\n",
    "\n",
    "**Requirements:**\n",
    "- freesurfer directory;\n",
    "- HCP \"fs_LR-deformed_to-fsaverage\" surfaces, available [here]( https://github.com/Washington-University/HCPpipelines/tree/master/global/templates/standard_mesh_atlases/resample_fsaverage)."
   ]
  },
  {
   "cell_type": "markdown",
   "id": "b7c0441c-4012-4c7d-8b0f-bc4a8ad116c2",
   "metadata": {},
   "source": [
    "## Requirement 1: Download HCP template surfaces\n",
    "Create a \"templates\" (for example, /home/jovyan/templates/) folder and download the following files from the link above:\n",
    "1. \"fs_LR-deformed_to-fsaverage.R.sphere.32k_fs_LR.surf.gii\";\n",
    "2. \"fs_LR-deformed_to-fsaverage.L.sphere.32k_fs_LR.surf.gii\";\n"
   ]
  },
  {
   "cell_type": "markdown",
   "id": "b277b7c4-f405-45f2-9312-ac38227a2344",
   "metadata": {},
   "source": [
    "## Requirement 2: FreeSurfer directory\n",
    "Ensure your FreeSurfer directory is organized as follows:\n",
    "```\n",
    ".\n",
    "├── 102311\n",
    "│   └── surf\n",
    "│       ├── lh.pial\n",
    "│       ├── lh.sphere\n",
    "│       ├── lh.sphere.reg\n",
    "│       ├── lh.thickness\n",
    "│       ├── lh.white\n",
    "│       ├── rh.graymid\n",
    "│       ├── rh.graymid.H\n",
    "│       ├── rh.graymid.K\n",
    "│       ├── rh.pial\n",
    "│       ├── rh.sphere\n",
    "│       ├── rh.sphere.reg\n",
    "│       ├── rh.thickness\n",
    "│       └── rh.white\n",
    "├── 102816\n",
    "│   └── surf\n",
    "│       └── ...\n",
    "```"
   ]
  },
  {
   "cell_type": "markdown",
   "id": "4a92a290-0fe4-4159-9b81-a9eb4e93bfe2",
   "metadata": {},
   "source": [
    "We use the midthickness surface instead of the white or pial surfaces in the current prediction pipeline. Given that generating the midthickness surface with FreeSurfer takes up to 2 hours, we provide the midthickness surfaces to speed up retinotopic map generation."
   ]
  },
  {
   "cell_type": "markdown",
   "id": "574c23ef-97ed-4e85-b061-0a6a5a191df8",
   "metadata": {},
   "source": [
    "## Predicting retinotopy maps with deepRetinotopy"
   ]
  },
  {
   "cell_type": "code",
   "execution_count": 2,
   "id": "d19ef18c-bebd-4e68-a3bf-659e72433fb7",
   "metadata": {},
   "outputs": [
    {
     "data": {
      "text/plain": [
       "['deepretinotopy/1.0.2']"
      ]
     },
     "execution_count": 2,
     "metadata": {},
     "output_type": "execute_result"
    }
   ],
   "source": [
    "# load deepretinotopy\n",
    "import lmod\n",
    "await lmod.load('deepretinotopy/1.0.2')\n",
    "await lmod.list()"
   ]
  },
  {
   "cell_type": "code",
   "execution_count": 15,
   "id": "2ecf0235-29c4-44fa-965c-1afc14fc3f7f",
   "metadata": {},
   "outputs": [
    {
     "name": "stdout",
     "output_type": "stream",
     "text": [
      "/cvmfs/neurodesk.ardc.edu.au/containers/deepretinotopy_1.0.2_20231223/python\n"
     ]
    }
   ],
   "source": [
    "!which python"
   ]
  },
  {
   "cell_type": "code",
   "execution_count": null,
   "id": "dca5343e-2a0b-434d-95ba-d417a1184907",
   "metadata": {},
   "outputs": [
    {
     "name": "stderr",
     "output_type": "stream",
     "text": [
      "tee: deepRetinotopy_output.log: Read-only file system\n"
     ]
    },
    {
     "name": "stdout",
     "output_type": "stream",
     "text": [
      "Path subs directory: /home/jovyan/work/BIDS/sourcedata/freesurfer\n",
      "Path to fs_LR-deformed_to-fsaverage surfaces: /home/jovyan/shared/templates/\n",
      "Dataset name: hcp\n",
      "Maps: polarAngle eccentricity\n",
      "Generating mid-thickness surface and curvature data...\n"
     ]
    },
    {
     "name": "stderr",
     "output_type": "stream",
     "text": [
      "tee: deepRetinotopy_error.log: Read-only file system\n"
     ]
    },
    {
     "name": "stdout",
     "output_type": "stream",
     "text": [
      "Path: /home/jovyan/work/BIDS/sourcedata/freesurfer\n",
      "Hemisphere: lh\n",
      "Subject: sub-wlsubj001\n",
      "Generating mid-thickness surface and curvature data if not available...\n",
      "using distance as a % of thickness\n",
      "expanding surface sub-wlsubj001/surf/lh.white by 50.0% of thickness and writing it to sub-wlsubj001/surf/lh.graymid\n",
      "reading thickness...\n",
      "min=0.000, parallel=0.0078, normal=0.0000, spring=0.0000, ashburner=0.000, tsmooth=0.000\n",
      "min=0.000, parallel=0.0076, normal=0.0000, spring=0.0000, ashburner=0.000, tsmooth=0.000\n",
      "min=0.000, parallel=0.0319, normal=0.0000, spring=0.0000, ashburner=0.000, tsmooth=0.000\n",
      "min=0.000, parallel=0.0319, normal=0.0000, spring=0.0000, ashburner=0.000, tsmooth=0.000\n",
      "min=0.000, parallel=0.0325, normal=0.0000, spring=0.0000, ashburner=0.000, tsmooth=0.000\n",
      "min=0.000, parallel=0.0607, normal=0.0000, spring=0.0000, ashburner=0.000, tsmooth=0.000\n",
      "min=0.000, parallel=0.2425, normal=0.0000, spring=0.0000, ashburner=0.000, tsmooth=0.000\n",
      "min=0.000, parallel=0.0316, normal=0.0000, spring=0.0000, ashburner=0.000, tsmooth=0.000\n",
      "min=0.000, parallel=0.0312, normal=0.0000, spring=0.0000, ashburner=0.000, tsmooth=0.000\n",
      "min=0.000, parallel=0.0317, normal=0.0000, spring=0.0000, ashburner=0.000, tsmooth=0.000\n",
      "min=0.000, parallel=0.0318, normal=0.0000, spring=0.0000, ashburner=0.000, tsmooth=0.000\n",
      "min=0.000, parallel=0.0067, normal=0.0000, spring=0.0000, ashburner=0.000, tsmooth=0.000\n",
      "min=0.000, parallel=0.0075, normal=0.0000, spring=0.0000, ashburner=0.000, tsmooth=0.000\n",
      "-01: dt=0.0000,   0 negative triangles  VmPeak 1592284\n",
      "min=0.000, parallel=0.0065, normal=0.0000, spring=0.0000, ashburner=0.000, tsmooth=0.000\n",
      "ending sse = 6631.945181\n",
      "nrounds = 6\n",
      "***************** integrating with averages = 16, niter = 40, l_spring = 0.000 ***********************\n"
     ]
    }
   ],
   "source": [
    "%%bash\n",
    "date_tag=20231223\n",
    "cd /cvmfs/neurodesk.ardc.edu.au/containers/deepretinotopy_1.0.2_\"$date_tag\"/deepretinotopy_1.0.2_$date_tag.simg/opt/deepRetinotopy_TheToolbox/\n",
    "bash deepRetinotopy.sh \\\n",
    "    -s /home/jovyan/work/BIDS/sourcedata/freesurfer \\\n",
    "    -t /home/jovyan/shared/templates/ \\\n",
    "    -d hcp \\\n",
    "    -m \"polarAngle,eccentricity\""
   ]
  },
  {
   "cell_type": "markdown",
   "id": "1fc9336e-c60d-4d6e-b739-aeb85f9a32a3",
   "metadata": {},
   "source": [
    "# Session 3 - Part 2\n",
    "This interactive notebook demonstrates the generation of visual field sign maps from the predicted retinotopic maps. \n",
    "\n",
    "**Requirements:**\n",
    "- freesurfer directory;\n",
    "- HCP \"fs_LR-deformed_to-fsaverage\" surfaces, available [here]( https://github.com/Washington-University/HCPpipelines/tree/master/global/templates/standard_mesh_atlases/resample_fsaverage);\n",
    "- predicted retinotopic maps.\n"
   ]
  },
  {
   "cell_type": "markdown",
   "id": "d8387815-ed09-42b4-a82e-72465dd40919",
   "metadata": {},
   "source": [
    "## Generating visual field sign maps from predicted retinotopy maps"
   ]
  },
  {
   "cell_type": "code",
   "execution_count": 13,
   "id": "cd84aa65-cc7b-4a8c-ac6c-25e4928b6dac",
   "metadata": {},
   "outputs": [
    {
     "name": "stdout",
     "output_type": "stream",
     "text": [
      "sub-wlsubj001\n",
      "Visual field sign map has been saved as /home/jovyan/work/BIDS/sourcedata/freesurfer/sub-wlsubj001/deepRetinotopy/sub-wlsubj001.fieldSignMap_lh.func.gii\n",
      "Visual field sign map has been saved as /home/jovyan/work/BIDS/sourcedata/freesurfer/sub-wlsubj001/deepRetinotopy/sub-wlsubj001.fieldSignMap_rh.func.gii\n"
     ]
    }
   ],
   "source": [
    "%%bash\n",
    "cd /home/jovyan/shared/lec-03/vss2024/tutorials/session3/\n",
    "python visualFieldSign.py --path /home/jovyan/work/BIDS/sourcedata/freesurfer/sub-wlsubj001/"
   ]
  },
  {
   "cell_type": "code",
   "execution_count": null,
   "id": "c2caf783-da33-4b9b-b66b-a20c9a7ffd53",
   "metadata": {},
   "outputs": [],
   "source": []
  }
 ],
 "metadata": {
  "kernelspec": {
   "display_name": "Python [conda env:root] *",
   "language": "python",
   "name": "conda-root-py"
  },
  "language_info": {
   "codemirror_mode": {
    "name": "ipython",
    "version": 3
   },
   "file_extension": ".py",
   "mimetype": "text/x-python",
   "name": "python",
   "nbconvert_exporter": "python",
   "pygments_lexer": "ipython3",
   "version": "3.11.6"
  }
 },
 "nbformat": 4,
 "nbformat_minor": 5
}
