{
 "cells": [
  {
   "cell_type": "markdown",
   "id": "f45df497-c695-4ddf-8740-f3c2ff0ed2cc",
   "metadata": {},
   "source": [
    "# Session 3 - Part 2\n",
    "This interactive notebook demonstrates the generation of visual field sign maps from the predicted retinotopic maps. \n",
    "\n",
    "**Requirements:**\n",
    "- freesurfer directory;\n",
    "- HCP \"fs_LR-deformed_to-fsaverage\" surfaces, available [here]( https://github.com/Washington-University/HCPpipelines/tree/master/global/templates/standard_mesh_atlases/resample_fsaverage);\n",
    "- predicted retinotopic maps."
   ]
  },
  {
   "cell_type": "markdown",
   "id": "16115962-a02c-4d6c-8358-b811663bf6c4",
   "metadata": {},
   "source": [
    "## Setting up Neurodesk"
   ]
  },
  {
   "cell_type": "markdown",
   "id": "1efe986d-0b73-4f5e-aa93-f02eb6f3fb10",
   "metadata": {},
   "source": [
    "To set up Neurodesk modules, please select the conda environment 'root.' "
   ]
  },
  {
   "cell_type": "code",
   "execution_count": 8,
   "id": "31924080-4dc9-4f84-9fc3-326d8897db2f",
   "metadata": {},
   "outputs": [],
   "source": [
    "%%capture\n",
    "import os\n",
    "import sys\n",
    "IN_COLAB = 'google.colab' in sys.modules\n",
    "\n",
    "if IN_COLAB:\n",
    "  os.environ[\"LD_PRELOAD\"] = \"\";\n",
    "  os.environ[\"APPTAINER_BINDPATH\"] = \"/content,/tmp,/cvmfs\"\n",
    "  os.environ[\"MPLCONFIGDIR\"] = \"/content/matplotlib-mpldir\"\n",
    "  os.environ[\"LMOD_CMD\"] = \"/usr/share/lmod/lmod/libexec/lmod\"\n",
    "\n",
    "  !curl -J -O https://raw.githubusercontent.com/NeuroDesk/neurocommand/main/googlecolab_setup.sh\n",
    "  !chmod +x googlecolab_setup.sh\n",
    "  !./googlecolab_setup.sh\n",
    "\n",
    "  os.environ[\"MODULEPATH\"] = ':'.join(map(str, list(map(lambda x: os.path.join(os.path.abspath('/cvmfs/neurodesk.ardc.edu.au/neurodesk-modules/'), x),os.listdir('/cvmfs/neurodesk.ardc.edu.au/neurodesk-modules/')))))"
   ]
  },
  {
   "cell_type": "code",
   "execution_count": 9,
   "id": "13d78db0-96c9-493d-afe0-216e06806c12",
   "metadata": {},
   "outputs": [
    {
     "name": "stdout",
     "output_type": "stream",
     "text": [
      "vendor_id\t: GenuineIntel\n",
      "model name\t: Intel(R) Xeon(R) Platinum 8488C\n"
     ]
    }
   ],
   "source": [
    "# Output CPU information:\n",
    "!cat /proc/cpuinfo | grep 'vendor' | uniq\n",
    "!cat /proc/cpuinfo | grep 'model name' | uniq"
   ]
  },
  {
   "cell_type": "markdown",
   "id": "574c23ef-97ed-4e85-b061-0a6a5a191df8",
   "metadata": {},
   "source": [
    "## Generating visual field sign maps from predicted retinotopy maps"
   ]
  },
  {
   "cell_type": "code",
   "execution_count": 10,
   "id": "d19ef18c-bebd-4e68-a3bf-659e72433fb7",
   "metadata": {
    "scrolled": true
   },
   "outputs": [
    {
     "data": {
      "text/plain": [
       "['deepretinotopy/1.0.2']"
      ]
     },
     "execution_count": 10,
     "metadata": {},
     "output_type": "execute_result"
    }
   ],
   "source": [
    "# load deepretinotopy\n",
    "import lmod\n",
    "import os\n",
    "await lmod.load('deepretinotopy/1.0.2')\n",
    "await lmod.list()"
   ]
  },
  {
   "cell_type": "code",
   "execution_count": 11,
   "id": "5e0edbd3-79ef-4c59-b3cb-c9ed2387f2f9",
   "metadata": {},
   "outputs": [
    {
     "name": "stdout",
     "output_type": "stream",
     "text": [
      "/cvmfs/neurodesk.ardc.edu.au/containers/deepretinotopy_1.0.2_20231223/python\n"
     ]
    }
   ],
   "source": [
    "!which python"
   ]
  },
  {
   "cell_type": "code",
   "execution_count": 12,
   "id": "eac46660-5325-47d6-aca1-0027bccebddc",
   "metadata": {},
   "outputs": [
    {
     "name": "stdout",
     "output_type": "stream",
     "text": [
      "Visual field sign map has been saved as /home/jovyan/shared/lec-03/data/freesurfer/sub-wlsubj001/deepRetinotopy/sub-wlsubj001.fieldSignMap_lh.func.gii\n",
      "Visual field sign map has been saved as /home/jovyan/shared/lec-03/data/freesurfer/sub-wlsubj001/deepRetinotopy/sub-wlsubj001.fieldSignMap_rh.func.gii\n"
     ]
    }
   ],
   "source": [
    "%%bash\n",
    "cd /home/jovyan/shared/lec-03/vss2024/tutorials/session3/\n",
    "python visualFieldSign.py --path /home/jovyan/shared/lec-03/data/freesurfer/"
   ]
  },
  {
   "cell_type": "code",
   "execution_count": null,
   "id": "454bfc6a-4d96-4f58-99ee-aeb93addb4ad",
   "metadata": {},
   "outputs": [],
   "source": []
  }
 ],
 "metadata": {
  "kernelspec": {
   "display_name": "Python [conda env:root] *",
   "language": "python",
   "name": "conda-root-py"
  },
  "language_info": {
   "codemirror_mode": {
    "name": "ipython",
    "version": 3
   },
   "file_extension": ".py",
   "mimetype": "text/x-python",
   "name": "python",
   "nbconvert_exporter": "python",
   "pygments_lexer": "ipython3",
   "version": "3.11.6"
  }
 },
 "nbformat": 4,
 "nbformat_minor": 5
}
