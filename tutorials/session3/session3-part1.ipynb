{
 "cells": [
  {
   "cell_type": "markdown",
   "id": "f45df497-c695-4ddf-8740-f3c2ff0ed2cc",
   "metadata": {},
   "source": [
    "# Session 3 - Part 1\n",
    "This interactive notebook demonstrates how to predict retinotopic maps from anatomical data using a geometric deep learning model of retinotopy. For more details about the model, please check [here](https://www.sciencedirect.com/science/article/pii/S1053811921008971).\n",
    "\n",
    "**Requirements:**\n",
    "- freesurfer directory;\n",
    "- HCP \"fs_LR-deformed_to-fsaverage\" surfaces, available [here]( https://github.com/Washington-University/HCPpipelines/tree/master/global/templates/standard_mesh_atlases/resample_fsaverage)."
   ]
  },
  {
   "cell_type": "markdown",
   "id": "b7c0441c-4012-4c7d-8b0f-bc4a8ad116c2",
   "metadata": {},
   "source": [
    "## Requirement 1: Download HCP template surfaces\n",
    "Create a \"templates\" (for example, /home/jovyan/templates/) folder and download the following files from the link above:\n",
    "1. \"fs_LR-deformed_to-fsaverage.R.sphere.32k_fs_LR.surf.gii\";\n",
    "2. \"fs_LR-deformed_to-fsaverage.L.sphere.32k_fs_LR.surf.gii\";\n"
   ]
  },
  {
   "cell_type": "markdown",
   "id": "b277b7c4-f405-45f2-9312-ac38227a2344",
   "metadata": {},
   "source": [
    "## Requirement 2: FreeSurfer directory\n",
    "Ensure your FreeSurfer directory is organized as follows:\n",
    "```\n",
    ".\n",
    "├── 102311\n",
    "│   └── surf\n",
    "│       ├── lh.pial\n",
    "│       ├── lh.sphere\n",
    "│       ├── lh.sphere.reg\n",
    "│       ├── lh.thickness\n",
    "│       ├── lh.white\n",
    "│       ├── rh.graymid\n",
    "│       ├── rh.graymid.H\n",
    "│       ├── rh.graymid.K\n",
    "│       ├── rh.pial\n",
    "│       ├── rh.sphere\n",
    "│       ├── rh.sphere.reg\n",
    "│       ├── rh.thickness\n",
    "│       └── rh.white\n",
    "├── 102816\n",
    "│   └── surf\n",
    "│       └── ...\n",
    "```"
   ]
  },
  {
   "cell_type": "markdown",
   "id": "4a92a290-0fe4-4159-9b81-a9eb4e93bfe2",
   "metadata": {},
   "source": [
    "We use the midthickness surface instead of the white or pial surfaces in the current prediction pipeline. Given that generating the midthickness surface with FreeSurfer takes up to 2 hours, we provide the midthickness surfaces to speed up retinotopic map generation."
   ]
  },
  {
   "cell_type": "markdown",
   "id": "16115962-a02c-4d6c-8358-b811663bf6c4",
   "metadata": {},
   "source": [
    "## Setting up Neurodesk"
   ]
  },
  {
   "cell_type": "code",
   "execution_count": 1,
   "id": "31924080-4dc9-4f84-9fc3-326d8897db2f",
   "metadata": {},
   "outputs": [],
   "source": [
    "%%capture\n",
    "import os\n",
    "import sys\n",
    "IN_COLAB = 'google.colab' in sys.modules\n",
    "\n",
    "if IN_COLAB:\n",
    "  os.environ[\"LD_PRELOAD\"] = \"\";\n",
    "  os.environ[\"APPTAINER_BINDPATH\"] = \"/content,/tmp,/cvmfs\"\n",
    "  os.environ[\"MPLCONFIGDIR\"] = \"/content/matplotlib-mpldir\"\n",
    "  os.environ[\"LMOD_CMD\"] = \"/usr/share/lmod/lmod/libexec/lmod\"\n",
    "\n",
    "  !curl -J -O https://raw.githubusercontent.com/NeuroDesk/neurocommand/main/googlecolab_setup.sh\n",
    "  !chmod +x googlecolab_setup.sh\n",
    "  !./googlecolab_setup.sh\n",
    "\n",
    "  os.environ[\"MODULEPATH\"] = ':'.join(map(str, list(map(lambda x: os.path.join(os.path.abspath('/cvmfs/neurodesk.ardc.edu.au/neurodesk-modules/'), x),os.listdir('/cvmfs/neurodesk.ardc.edu.au/neurodesk-modules/')))))"
   ]
  },
  {
   "cell_type": "code",
   "execution_count": 2,
   "id": "13d78db0-96c9-493d-afe0-216e06806c12",
   "metadata": {},
   "outputs": [
    {
     "name": "stdout",
     "output_type": "stream",
     "text": [
      "vendor_id\t: GenuineIntel\n",
      "model name\t: Intel(R) Xeon(R) Platinum 8488C\n"
     ]
    }
   ],
   "source": [
    "# Output CPU information:\n",
    "!cat /proc/cpuinfo | grep 'vendor' | uniq\n",
    "!cat /proc/cpuinfo | grep 'model name' | uniq"
   ]
  },
  {
   "cell_type": "markdown",
   "id": "574c23ef-97ed-4e85-b061-0a6a5a191df8",
   "metadata": {},
   "source": [
    "## Predicting retinotopy maps with deepRetinotopy"
   ]
  },
  {
   "cell_type": "code",
   "execution_count": 3,
   "id": "d19ef18c-bebd-4e68-a3bf-659e72433fb7",
   "metadata": {},
   "outputs": [
    {
     "data": {
      "text/plain": [
       "['deepretinotopy/1.0.2']"
      ]
     },
     "execution_count": 3,
     "metadata": {},
     "output_type": "execute_result"
    }
   ],
   "source": [
    "# load deepretinotopy\n",
    "import lmod\n",
    "import os\n",
    "await lmod.load('deepretinotopy/1.0.2')\n",
    "await lmod.list()"
   ]
  },
  {
   "cell_type": "code",
   "execution_count": 4,
   "id": "dca5343e-2a0b-434d-95ba-d417a1184907",
   "metadata": {},
   "outputs": [
    {
     "name": "stderr",
     "output_type": "stream",
     "text": [
      "tee: deepRetinotopy_output.log: Read-only file system\n",
      "tee: deepRetinotopy_error.log: Read-only file system\n"
     ]
    },
    {
     "name": "stdout",
     "output_type": "stream",
     "text": [
      "Path subs directory: /home/jovyan/shared/tmp/data/\n",
      "Path to fs_LR-deformed_to-fsaverage surfaces: /home/jovyan/shared/templates/\n",
      "Dataset name: hcp\n",
      "Maps: polarAngle\n",
      "Generating mid-thickness surface and curvature data...\n",
      "Path: /home/jovyan/shared/tmp/data/\n",
      "Hemisphere: lh\n",
      "Subject: 102311\n",
      "Generating mid-thickness surface and curvature data if not available...\n",
      "Preparing native surfaces for resampling if not available...\n",
      "Execution time: 0 minutes\n",
      "Retinotopy prediction...\n"
     ]
    },
    {
     "name": "stderr",
     "output_type": "stream",
     "text": [
      "/opt/miniconda-py37_4.8.3/lib/python3.7/site-packages/torch_geometric/nn/conv/spline_conv.py:118: UserWarning: We do not recommend using the non-optimized CPU version of `SplineConv`. If possible, please move your data to GPU.\n",
      "  'We do not recommend using the non-optimized CPU version of '\n"
     ]
    },
    {
     "name": "stdout",
     "output_type": "stream",
     "text": [
      "Loading the dataset\n",
      "Processing...\n",
      "Done!\n",
      "Dataset loaded\n",
      "Time elapsed: 0.25137122347950935 minutes\n",
      "Loading model 1\n",
      "Saving .gii files in: /home/jovyan/shared/tmp/data/102311/deepRetinotopy/\n",
      "Predictions from model 1 were saved\n",
      "Time elapsed: 2.083622109144926 minutes\n",
      "Loading model 2\n",
      "Saving .gii files in: /home/jovyan/shared/tmp/data/102311/deepRetinotopy/\n",
      "Predictions from model 2 were saved\n",
      "Time elapsed: 1.975775245577097 minutes\n",
      "Loading model 3\n",
      "Saving .gii files in: /home/jovyan/shared/tmp/data/102311/deepRetinotopy/\n",
      "Predictions from model 3 were saved\n",
      "Time elapsed: 1.9812879040837288 minutes\n",
      "Loading model 4\n",
      "Saving .gii files in: /home/jovyan/shared/tmp/data/102311/deepRetinotopy/\n",
      "Predictions from model 4 were saved\n",
      "Time elapsed: 1.9930103346705437 minutes\n",
      "Loading model 5\n",
      "Saving .gii files in: /home/jovyan/shared/tmp/data/102311/deepRetinotopy/\n",
      "Predictions from model 5 were saved\n",
      "Time elapsed: 1.9813480041921139 minutes\n",
      "Saving average predictions\n",
      "Average predictions were saved\n",
      "Resampling predictions to native space...\n",
      "Path: /home/jovyan/shared/tmp/data/\n",
      "Hemisphere: lh\n",
      "Map: polarAngle\n",
      "Model: model1\n",
      "Resampling fsaverage to native space...\n",
      "Path: /home/jovyan/shared/tmp/data/\n",
      "Hemisphere: lh\n",
      "Map: polarAngle\n",
      "Model: model2\n",
      "Resampling fsaverage to native space...\n",
      "Path: /home/jovyan/shared/tmp/data/\n",
      "Hemisphere: lh\n",
      "Map: polarAngle\n",
      "Model: model3\n",
      "Resampling fsaverage to native space...\n",
      "Path: /home/jovyan/shared/tmp/data/\n",
      "Hemisphere: lh\n",
      "Map: polarAngle\n",
      "Model: model4\n",
      "Resampling fsaverage to native space...\n",
      "Path: /home/jovyan/shared/tmp/data/\n",
      "Hemisphere: lh\n",
      "Map: polarAngle\n",
      "Model: model5\n",
      "Resampling fsaverage to native space...\n",
      "Path: /home/jovyan/shared/tmp/data/\n",
      "Hemisphere: lh\n",
      "Map: polarAngle\n",
      "Model: average\n",
      "Resampling fsaverage to native space...\n",
      "polarAngle predictions for lh are done!\n",
      "Generating mid-thickness surface and curvature data...\n",
      "Path: /home/jovyan/shared/tmp/data/\n",
      "Hemisphere: rh\n",
      "Subject: 102311\n",
      "Generating mid-thickness surface and curvature data if not available...\n",
      "Preparing native surfaces for resampling if not available...\n",
      "Execution time: 0 minutes\n",
      "Retinotopy prediction...\n"
     ]
    },
    {
     "name": "stderr",
     "output_type": "stream",
     "text": [
      "/opt/miniconda-py37_4.8.3/lib/python3.7/site-packages/torch_geometric/nn/conv/spline_conv.py:118: UserWarning: We do not recommend using the non-optimized CPU version of `SplineConv`. If possible, please move your data to GPU.\n",
      "  'We do not recommend using the non-optimized CPU version of '\n"
     ]
    },
    {
     "name": "stdout",
     "output_type": "stream",
     "text": [
      "Loading the dataset\n",
      "Processing...\n",
      "Done!\n",
      "Dataset loaded\n",
      "Time elapsed: 0.2473652996122837 minutes\n",
      "Loading model 1\n",
      "Saving .gii files in: /home/jovyan/shared/tmp/data/102311/deepRetinotopy/\n",
      "Predictions from model 1 were saved\n",
      "Time elapsed: 2.1462337113916874 minutes\n",
      "Loading model 2\n",
      "Saving .gii files in: /home/jovyan/shared/tmp/data/102311/deepRetinotopy/\n",
      "Predictions from model 2 were saved\n",
      "Time elapsed: 2.0201983489096165 minutes\n",
      "Loading model 3\n",
      "Saving .gii files in: /home/jovyan/shared/tmp/data/102311/deepRetinotopy/\n",
      "Predictions from model 3 were saved\n",
      "Time elapsed: 2.00690059363842 minutes\n",
      "Loading model 4\n",
      "Saving .gii files in: /home/jovyan/shared/tmp/data/102311/deepRetinotopy/\n",
      "Predictions from model 4 were saved\n",
      "Time elapsed: 2.0047450847923756 minutes\n",
      "Loading model 5\n",
      "Saving .gii files in: /home/jovyan/shared/tmp/data/102311/deepRetinotopy/\n",
      "Predictions from model 5 were saved\n",
      "Time elapsed: 2.0041306652128696 minutes\n",
      "Saving average predictions\n",
      "Average predictions were saved\n",
      "Resampling predictions to native space...\n",
      "Path: /home/jovyan/shared/tmp/data/\n",
      "Hemisphere: rh\n",
      "Map: polarAngle\n",
      "Model: model1\n",
      "Resampling fsaverage to native space...\n",
      "Path: /home/jovyan/shared/tmp/data/\n",
      "Hemisphere: rh\n",
      "Map: polarAngle\n",
      "Model: model2\n",
      "Resampling fsaverage to native space...\n",
      "Path: /home/jovyan/shared/tmp/data/\n",
      "Hemisphere: rh\n",
      "Map: polarAngle\n",
      "Model: model3\n",
      "Resampling fsaverage to native space...\n",
      "Path: /home/jovyan/shared/tmp/data/\n",
      "Hemisphere: rh\n",
      "Map: polarAngle\n",
      "Model: model4\n",
      "Resampling fsaverage to native space...\n",
      "Path: /home/jovyan/shared/tmp/data/\n",
      "Hemisphere: rh\n",
      "Map: polarAngle\n",
      "Model: model5\n",
      "Resampling fsaverage to native space...\n",
      "Path: /home/jovyan/shared/tmp/data/\n",
      "Hemisphere: rh\n",
      "Map: polarAngle\n",
      "Model: average\n",
      "Resampling fsaverage to native space...\n",
      "polarAngle predictions for rh are done!\n",
      "All done!\n"
     ]
    }
   ],
   "source": [
    "%%bash\n",
    "date_tag=20231223\n",
    "cd /cvmfs/neurodesk.ardc.edu.au/containers/deepretinotopy_1.0.2_\"$date_tag\"/deepretinotopy_1.0.2_$date_tag.simg/opt/deepRetinotopy_TheToolbox/\n",
    "bash deepRetinotopy.sh -s /home/jovyan/shared/tmp/data/ -t /home/jovyan/shared/templates/ -d hcp -m \"polarAngle\""
   ]
  },
  {
   "cell_type": "markdown",
   "id": "1a0e5a65-ca8b-44b9-8d00-31bd3fa78fde",
   "metadata": {},
   "source": [
    "## Creating a conda environment for data visualization\n",
    "You can run the following cell or create the conda environment via a terminal window."
   ]
  },
  {
   "cell_type": "code",
   "execution_count": null,
   "id": "5616032a-6078-43a8-b122-79fed96e90ba",
   "metadata": {},
   "outputs": [],
   "source": [
    "%%bash\n",
    "conda create -n deepretinotopy python=3.8 ipykernel\n",
    "conda activate deepretinotopy\n",
    "\n",
    "pip install -r requirements.txt;"
   ]
  },
  {
   "cell_type": "markdown",
   "id": "f84a029f-91ca-4683-a8a6-7eb9b5284693",
   "metadata": {},
   "source": [
    "Now, we have to change the kernel and choose the deepretinotopy one. The notebook will be restarted but you don't need to rerun the previous cells, just the ones bellow."
   ]
  },
  {
   "cell_type": "markdown",
   "id": "516b89b2-987a-40c7-879a-e9243d548e51",
   "metadata": {},
   "source": [
    "## Visualization"
   ]
  },
  {
   "cell_type": "code",
   "execution_count": 1,
   "id": "43ebfb90-ec7e-46d8-9132-79ff1b3727e9",
   "metadata": {},
   "outputs": [],
   "source": [
    "# imports\n",
    "import numpy as np\n",
    "import pandas as pd\n",
    "import random\n",
    "import sys\n",
    "\n",
    "sys.path.append('.')\n",
    "\n",
    "from functions.visualization import polarAngle_plot\n",
    "from ipywidgets import interact, Dropdown"
   ]
  },
  {
   "cell_type": "code",
   "execution_count": 3,
   "id": "7723b2ac-4291-478d-8e2b-3b241197a7d6",
   "metadata": {},
   "outputs": [
    {
     "data": {
      "application/vnd.jupyter.widget-view+json": {
       "model_id": "7e465a5223e1488ab00a2342ddbce037",
       "version_major": 2,
       "version_minor": 0
      },
      "text/plain": [
       "interactive(children=(Dropdown(description='prediction', options=('average', 'model1', 'model2', 'model3', 'mo…"
      ]
     },
     "metadata": {},
     "output_type": "display_data"
    }
   ],
   "source": [
    "subject_id=str(102311)\n",
    "prediction = Dropdown(options = ['average','model1', 'model2', 'model3', 'model4', 'model5'])\n",
    "binarize = Dropdown(options = [False, True])\n",
    "\n",
    "@interact(prediction = prediction, binarize = binarize)\n",
    "def plot1(prediction, binarize):\n",
    "    return polarAngle_plot(subject_id, '/home/jovyan/shared/tmp//data', '/home/jovyan/shared/templates', prediction = prediction, binarize = binarize)"
   ]
  },
  {
   "cell_type": "code",
   "execution_count": null,
   "id": "3e216b0d-84f8-4b80-8463-e43c2f95334f",
   "metadata": {},
   "outputs": [],
   "source": []
  }
 ],
 "metadata": {
  "kernelspec": {
   "display_name": "Python [conda env:deepretinotopy]",
   "language": "python",
   "name": "conda-env-deepretinotopy-py"
  },
  "language_info": {
   "codemirror_mode": {
    "name": "ipython",
    "version": 3
   },
   "file_extension": ".py",
   "mimetype": "text/x-python",
   "name": "python",
   "nbconvert_exporter": "python",
   "pygments_lexer": "ipython3",
   "version": "3.8.19"
  }
 },
 "nbformat": 4,
 "nbformat_minor": 5
}
