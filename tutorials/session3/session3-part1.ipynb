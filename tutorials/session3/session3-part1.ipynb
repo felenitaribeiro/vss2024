{
 "cells": [
  {
   "cell_type": "markdown",
   "id": "f45df497-c695-4ddf-8740-f3c2ff0ed2cc",
   "metadata": {},
   "source": [
    "# Session 3 - Part 1\n",
    "This interactive notebook demonstrates how to predict retinotopic maps from anatomical data using a geometric deep learning model of retinotopy. For more details about the model, please check [here](https://www.sciencedirect.com/science/article/pii/S1053811921008971).\n",
    "\n",
    "**Requirements:**\n",
    "- freesurfer directory;\n",
    "- HCP \"fs_LR-deformed_to-fsaverage\" surfaces, available [here]( https://github.com/Washington-University/HCPpipelines/tree/master/global/templates/standard_mesh_atlases/resample_fsaverage)."
   ]
  },
  {
   "cell_type": "markdown",
   "id": "b7c0441c-4012-4c7d-8b0f-bc4a8ad116c2",
   "metadata": {},
   "source": [
    "## Requirement 1: Download HCP template surfaces\n",
    "Create a \"templates\" (for example, /home/jovyan/templates/) folder and download the following files from the link above:\n",
    "1. \"fs_LR-deformed_to-fsaverage.R.sphere.32k_fs_LR.surf.gii\";\n",
    "2. \"fs_LR-deformed_to-fsaverage.L.sphere.32k_fs_LR.surf.gii\";\n"
   ]
  },
  {
   "cell_type": "markdown",
   "id": "b277b7c4-f405-45f2-9312-ac38227a2344",
   "metadata": {},
   "source": [
    "## Requirement 2: FreeSurfer directory\n",
    "Ensure your FreeSurfer directory is organized as follows:\n",
    "```\n",
    ".\n",
    "├── 102311\n",
    "│   └── surf\n",
    "│       ├── lh.pial\n",
    "│       ├── lh.sphere\n",
    "│       ├── lh.sphere.reg\n",
    "│       ├── lh.thickness\n",
    "│       ├── lh.white\n",
    "│       ├── rh.graymid\n",
    "│       ├── rh.graymid.H\n",
    "│       ├── rh.graymid.K\n",
    "│       ├── rh.pial\n",
    "│       ├── rh.sphere\n",
    "│       ├── rh.sphere.reg\n",
    "│       ├── rh.thickness\n",
    "│       └── rh.white\n",
    "├── 102816\n",
    "│   └── surf\n",
    "│       └── ...\n",
    "```"
   ]
  },
  {
   "cell_type": "markdown",
   "id": "4a92a290-0fe4-4159-9b81-a9eb4e93bfe2",
   "metadata": {},
   "source": [
    "We use the midthickness surface instead of the white or pial surfaces in the current prediction pipeline. Given that generating the midthickness surface with FreeSurfer takes up to 2 hours, we provide the midthickness surfaces to speed up retinotopic map generation."
   ]
  },
  {
   "cell_type": "markdown",
   "id": "16115962-a02c-4d6c-8358-b811663bf6c4",
   "metadata": {},
   "source": [
    "## Setting up Neurodesk"
   ]
  },
  {
   "cell_type": "code",
   "execution_count": 1,
   "id": "31924080-4dc9-4f84-9fc3-326d8897db2f",
   "metadata": {},
   "outputs": [],
   "source": [
    "%%capture\n",
    "import os\n",
    "import sys\n",
    "IN_COLAB = 'google.colab' in sys.modules\n",
    "\n",
    "if IN_COLAB:\n",
    "  os.environ[\"LD_PRELOAD\"] = \"\";\n",
    "  os.environ[\"APPTAINER_BINDPATH\"] = \"/content,/tmp,/cvmfs\"\n",
    "  os.environ[\"MPLCONFIGDIR\"] = \"/content/matplotlib-mpldir\"\n",
    "  os.environ[\"LMOD_CMD\"] = \"/usr/share/lmod/lmod/libexec/lmod\"\n",
    "\n",
    "  !curl -J -O https://raw.githubusercontent.com/NeuroDesk/neurocommand/main/googlecolab_setup.sh\n",
    "  !chmod +x googlecolab_setup.sh\n",
    "  !./googlecolab_setup.sh\n",
    "\n",
    "  os.environ[\"MODULEPATH\"] = ':'.join(map(str, list(map(lambda x: os.path.join(os.path.abspath('/cvmfs/neurodesk.ardc.edu.au/neurodesk-modules/'), x),os.listdir('/cvmfs/neurodesk.ardc.edu.au/neurodesk-modules/')))))"
   ]
  },
  {
   "cell_type": "code",
   "execution_count": 2,
   "id": "13d78db0-96c9-493d-afe0-216e06806c12",
   "metadata": {},
   "outputs": [
    {
     "name": "stdout",
     "output_type": "stream",
     "text": [
      "vendor_id\t: GenuineIntel\n",
      "model name\t: Intel(R) Xeon(R) Platinum 8488C\n"
     ]
    }
   ],
   "source": [
    "# Output CPU information:\n",
    "!cat /proc/cpuinfo | grep 'vendor' | uniq\n",
    "!cat /proc/cpuinfo | grep 'model name' | uniq"
   ]
  },
  {
   "cell_type": "markdown",
   "id": "574c23ef-97ed-4e85-b061-0a6a5a191df8",
   "metadata": {},
   "source": [
    "## Predicting retinotopy maps with deepRetinotopy"
   ]
  },
  {
   "cell_type": "code",
   "execution_count": 3,
   "id": "d19ef18c-bebd-4e68-a3bf-659e72433fb7",
   "metadata": {},
   "outputs": [
    {
     "data": {
      "text/plain": [
       "['deepretinotopy/1.0.2']"
      ]
     },
     "execution_count": 3,
     "metadata": {},
     "output_type": "execute_result"
    }
   ],
   "source": [
    "# load deepretinotopy\n",
    "import lmod\n",
    "import os\n",
    "await lmod.load('deepretinotopy/1.0.2')\n",
    "await lmod.list()"
   ]
  },
  {
   "cell_type": "code",
   "execution_count": 4,
   "id": "2ecf0235-29c4-44fa-965c-1afc14fc3f7f",
   "metadata": {},
   "outputs": [
    {
     "name": "stdout",
     "output_type": "stream",
     "text": [
      "/cvmfs/neurodesk.ardc.edu.au/containers/deepretinotopy_1.0.2_20231223/python\n"
     ]
    }
   ],
   "source": [
    "!which python"
   ]
  },
  {
   "cell_type": "code",
   "execution_count": 5,
   "id": "dca5343e-2a0b-434d-95ba-d417a1184907",
   "metadata": {},
   "outputs": [
    {
     "name": "stderr",
     "output_type": "stream",
     "text": [
      "tee: deepRetinotopy_output.log: Read-only file system\n"
     ]
    },
    {
     "name": "stdout",
     "output_type": "stream",
     "text": [
      "Path subs directory: /home/jovyan/shared/lec-03/data/freesurfer\n",
      "Path to fs_LR-deformed_to-fsaverage surfaces: /home/jovyan/shared/templates/\n",
      "Dataset name: hcp\n",
      "Maps: polarAngle eccentricity\n",
      "Generating mid-thickness surface and curvature data...\n"
     ]
    },
    {
     "name": "stderr",
     "output_type": "stream",
     "text": [
      "tee: deepRetinotopy_error.log: Read-only file system\n"
     ]
    },
    {
     "name": "stdout",
     "output_type": "stream",
     "text": [
      "Path: /home/jovyan/shared/lec-03/data/freesurfer\n",
      "Hemisphere: lh\n",
      "Subject: sub-wlsubj001\n",
      "Generating mid-thickness surface and curvature data if not available...\n",
      "using distance as a % of thickness\n",
      "expanding surface sub-wlsubj001/surf/lh.white by 50.0% of thickness and writing it to sub-wlsubj001/surf/lh.graymid\n",
      "reading thickness...\n",
      "min=0.000, parallel=0.0078, normal=0.0000, spring=0.0000, ashburner=0.000, tsmooth=0.000\n",
      "min=0.000, parallel=0.0076, normal=0.0000, spring=0.0000, ashburner=0.000, tsmooth=0.000\n",
      "min=0.000, parallel=0.0319, normal=0.0000, spring=0.0000, ashburner=0.000, tsmooth=0.000\n",
      "min=0.000, parallel=0.0319, normal=0.0000, spring=0.0000, ashburner=0.000, tsmooth=0.000\n",
      "min=0.000, parallel=0.0325, normal=0.0000, spring=0.0000, ashburner=0.000, tsmooth=0.000\n",
      "min=0.000, parallel=0.0607, normal=0.0000, spring=0.0000, ashburner=0.000, tsmooth=0.000\n",
      "min=0.000, parallel=0.2425, normal=0.0000, spring=0.0000, ashburner=0.000, tsmooth=0.000\n",
      "min=0.000, parallel=0.0316, normal=0.0000, spring=0.0000, ashburner=0.000, tsmooth=0.000\n",
      "min=0.000, parallel=0.0312, normal=0.0000, spring=0.0000, ashburner=0.000, tsmooth=0.000\n",
      "min=0.000, parallel=0.0317, normal=0.0000, spring=0.0000, ashburner=0.000, tsmooth=0.000\n",
      "min=0.000, parallel=0.0318, normal=0.0000, spring=0.0000, ashburner=0.000, tsmooth=0.000\n",
      "min=0.000, parallel=0.0067, normal=0.0000, spring=0.0000, ashburner=0.000, tsmooth=0.000\n",
      "min=0.000, parallel=0.0075, normal=0.0000, spring=0.0000, ashburner=0.000, tsmooth=0.000\n",
      "-01: dt=0.0000,   0 negative triangles  VmPeak 1592236\n",
      "min=0.000, parallel=0.0065, normal=0.0000, spring=0.0000, ashburner=0.000, tsmooth=0.000\n",
      "ending sse = 6631.945181\n",
      "nrounds = 6\n",
      "***************** integrating with averages = 16, niter = 40, l_spring = 0.000 ***********************\n",
      "step 40 of 240     ***************** integrating with averages = 8, niter = 40, l_spring = 0.000 ***********************\n",
      "step 80 of 240     ***************** integrating with averages = 4, niter = 40, l_spring = 0.000 ***********************\n",
      "step 120 of 240     ***************** integrating with averages = 2, niter = 40, l_spring = 0.000 ***********************\n",
      "step 160 of 240     ***************** integrating with averages = 1, niter = 40, l_spring = 0.000 ***********************\n",
      "step 200 of 240     ***************** integrating with averages = 0, niter = 40, l_spring = 0.000 ***********************\n",
      "step 240 of 240     \n",
      "writing expanded surface to sub-wlsubj001/surf/lh.graymid...\n",
      "surface expansion took 13 minutes and 12 seconds.\n"
     ]
    },
    {
     "name": "stderr",
     "output_type": "stream",
     "text": [
      "total integrated curvature = 20.324*4pi (255.398) --> -19 handles\n",
      "ICI = 148.8, FI = 1251.0, variation=20484.148\n",
      "writing Gaussian curvature to sub-wlsubj001/surf/lh.graymid.K...done.\n",
      "writing mean curvature to sub-wlsubj001/surf/lh.graymid.H...done.\n"
     ]
    },
    {
     "name": "stdout",
     "output_type": "stream",
     "text": [
      "Preparing native surfaces for resampling if not available...\n",
      "Saving sub-wlsubj001/surf/lh.midthickness.surf.gii.temp7954.white.surf.gii as a surface\n",
      "Saving sub-wlsubj001/surf/lh.midthickness.surf.gii.temp7954.pial.surf.gii as a surface\n",
      "Saving sub-wlsubj001/surf/lh.sphere.reg.surf.gii as a surface\n",
      "Resampling native to fsaverage space...\n",
      "Execution time: 13 minutes\n",
      "Retinotopy prediction...\n"
     ]
    },
    {
     "name": "stderr",
     "output_type": "stream",
     "text": [
      "/opt/miniconda-py37_4.8.3/lib/python3.7/site-packages/torch_geometric/nn/conv/spline_conv.py:118: UserWarning: We do not recommend using the non-optimized CPU version of `SplineConv`. If possible, please move your data to GPU.\n",
      "  'We do not recommend using the non-optimized CPU version of '\n"
     ]
    },
    {
     "name": "stdout",
     "output_type": "stream",
     "text": [
      "Loading the dataset\n",
      "Processing...\n",
      "Done!\n",
      "Dataset loaded\n",
      "Time elapsed: 0.2447112798690796 minutes\n",
      "Loading model 1\n",
      "Saving .gii files in: /home/jovyan/shared/lec-03/data/freesurfersub-wlsubj001/deepRetinotopy/\n",
      "Predictions from model 1 were saved\n",
      "Time elapsed: 1.9913232401013374 minutes\n",
      "Loading model 2\n",
      "Saving .gii files in: /home/jovyan/shared/lec-03/data/freesurfersub-wlsubj001/deepRetinotopy/\n",
      "Predictions from model 2 were saved\n",
      "Time elapsed: 1.9158258475363255 minutes\n",
      "Loading model 3\n",
      "Saving .gii files in: /home/jovyan/shared/lec-03/data/freesurfersub-wlsubj001/deepRetinotopy/\n",
      "Predictions from model 3 were saved\n",
      "Time elapsed: 1.921327706426382 minutes\n",
      "Loading model 4\n",
      "Saving .gii files in: /home/jovyan/shared/lec-03/data/freesurfersub-wlsubj001/deepRetinotopy/\n",
      "Predictions from model 4 were saved\n",
      "Time elapsed: 1.9194692820310593 minutes\n",
      "Loading model 5\n",
      "Saving .gii files in: /home/jovyan/shared/lec-03/data/freesurfersub-wlsubj001/deepRetinotopy/\n",
      "Predictions from model 5 were saved\n",
      "Time elapsed: 1.9212588109076023 minutes\n",
      "Saving average predictions\n",
      "Average predictions were saved\n",
      "Resampling predictions to native space...\n",
      "Path: /home/jovyan/shared/lec-03/data/freesurfer\n",
      "Hemisphere: lh\n",
      "Map: polarAngle\n",
      "Model: model1\n",
      "Resampling fsaverage to native space...\n",
      "Path: /home/jovyan/shared/lec-03/data/freesurfer\n",
      "Hemisphere: lh\n",
      "Map: polarAngle\n",
      "Model: model2\n",
      "Resampling fsaverage to native space...\n",
      "Path: /home/jovyan/shared/lec-03/data/freesurfer\n",
      "Hemisphere: lh\n",
      "Map: polarAngle\n",
      "Model: model3\n",
      "Resampling fsaverage to native space...\n",
      "Path: /home/jovyan/shared/lec-03/data/freesurfer\n",
      "Hemisphere: lh\n",
      "Map: polarAngle\n",
      "Model: model4\n",
      "Resampling fsaverage to native space...\n",
      "Path: /home/jovyan/shared/lec-03/data/freesurfer\n",
      "Hemisphere: lh\n",
      "Map: polarAngle\n",
      "Model: model5\n",
      "Resampling fsaverage to native space...\n",
      "Path: /home/jovyan/shared/lec-03/data/freesurfer\n",
      "Hemisphere: lh\n",
      "Map: polarAngle\n",
      "Model: average\n",
      "Resampling fsaverage to native space...\n",
      "polarAngle predictions for lh are done!\n",
      "Retinotopy prediction...\n"
     ]
    },
    {
     "name": "stderr",
     "output_type": "stream",
     "text": [
      "/opt/miniconda-py37_4.8.3/lib/python3.7/site-packages/torch_geometric/nn/conv/spline_conv.py:118: UserWarning: We do not recommend using the non-optimized CPU version of `SplineConv`. If possible, please move your data to GPU.\n",
      "  'We do not recommend using the non-optimized CPU version of '\n"
     ]
    },
    {
     "name": "stdout",
     "output_type": "stream",
     "text": [
      "Loading the dataset\n",
      "Processing...\n",
      "Done!\n",
      "Dataset loaded\n",
      "Time elapsed: 0.2490822821855545 minutes\n",
      "Loading model 1\n",
      "Saving .gii files in: /home/jovyan/shared/lec-03/data/freesurfersub-wlsubj001/deepRetinotopy/\n",
      "Predictions from model 1 were saved\n",
      "Time elapsed: 1.988261591643095 minutes\n",
      "Loading model 2\n",
      "Saving .gii files in: /home/jovyan/shared/lec-03/data/freesurfersub-wlsubj001/deepRetinotopy/\n",
      "Predictions from model 2 were saved\n",
      "Time elapsed: 1.9334828108549118 minutes\n",
      "Loading model 3\n",
      "Saving .gii files in: /home/jovyan/shared/lec-03/data/freesurfersub-wlsubj001/deepRetinotopy/\n",
      "Predictions from model 3 were saved\n",
      "Time elapsed: 1.9467109143733978 minutes\n",
      "Loading model 4\n",
      "Saving .gii files in: /home/jovyan/shared/lec-03/data/freesurfersub-wlsubj001/deepRetinotopy/\n",
      "Predictions from model 4 were saved\n",
      "Time elapsed: 1.951413705945015 minutes\n",
      "Loading model 5\n",
      "Saving .gii files in: /home/jovyan/shared/lec-03/data/freesurfersub-wlsubj001/deepRetinotopy/\n",
      "Predictions from model 5 were saved\n",
      "Time elapsed: 1.9417077861726284 minutes\n",
      "Saving average predictions\n",
      "Average predictions were saved\n",
      "Resampling predictions to native space...\n",
      "Path: /home/jovyan/shared/lec-03/data/freesurfer\n",
      "Hemisphere: lh\n",
      "Map: eccentricity\n",
      "Model: model1\n",
      "Resampling fsaverage to native space...\n",
      "Path: /home/jovyan/shared/lec-03/data/freesurfer\n",
      "Hemisphere: lh\n",
      "Map: eccentricity\n",
      "Model: model2\n",
      "Resampling fsaverage to native space...\n",
      "Path: /home/jovyan/shared/lec-03/data/freesurfer\n",
      "Hemisphere: lh\n",
      "Map: eccentricity\n",
      "Model: model3\n",
      "Resampling fsaverage to native space...\n",
      "Path: /home/jovyan/shared/lec-03/data/freesurfer\n",
      "Hemisphere: lh\n",
      "Map: eccentricity\n",
      "Model: model4\n",
      "Resampling fsaverage to native space...\n",
      "Path: /home/jovyan/shared/lec-03/data/freesurfer\n",
      "Hemisphere: lh\n",
      "Map: eccentricity\n",
      "Model: model5\n",
      "Resampling fsaverage to native space...\n",
      "Path: /home/jovyan/shared/lec-03/data/freesurfer\n",
      "Hemisphere: lh\n",
      "Map: eccentricity\n",
      "Model: average\n",
      "Resampling fsaverage to native space...\n",
      "eccentricity predictions for lh are done!\n",
      "Generating mid-thickness surface and curvature data...\n",
      "Path: /home/jovyan/shared/lec-03/data/freesurfer\n",
      "Hemisphere: rh\n",
      "Subject: sub-wlsubj001\n",
      "Generating mid-thickness surface and curvature data if not available...\n",
      "using distance as a % of thickness\n",
      "expanding surface sub-wlsubj001/surf/rh.white by 50.0% of thickness and writing it to sub-wlsubj001/surf/rh.graymid\n",
      "reading thickness...\n",
      "min=0.000, parallel=0.0077, normal=0.0000, spring=0.0000, ashburner=0.000, tsmooth=0.000\n",
      "min=0.000, parallel=0.0075, normal=0.0000, spring=0.0000, ashburner=0.000, tsmooth=0.000\n",
      "min=0.000, parallel=0.0329, normal=0.0000, spring=0.0000, ashburner=0.000, tsmooth=0.000\n",
      "min=0.000, parallel=0.0329, normal=0.0000, spring=0.0000, ashburner=0.000, tsmooth=0.000\n",
      "min=0.000, parallel=0.0338, normal=0.0000, spring=0.0000, ashburner=0.000, tsmooth=0.000\n",
      "min=0.000, parallel=0.0685, normal=0.0000, spring=0.0000, ashburner=0.000, tsmooth=0.000\n",
      "min=0.000, parallel=0.2614, normal=0.0000, spring=0.0000, ashburner=0.000, tsmooth=0.000\n",
      "min=0.000, parallel=0.0325, normal=0.0000, spring=0.0000, ashburner=0.000, tsmooth=0.000\n",
      "min=0.000, parallel=0.0319, normal=0.0000, spring=0.0000, ashburner=0.000, tsmooth=0.000\n",
      "min=0.000, parallel=0.0326, normal=0.0000, spring=0.0000, ashburner=0.000, tsmooth=0.000\n",
      "min=0.000, parallel=0.0326, normal=0.0000, spring=0.0000, ashburner=0.000, tsmooth=0.000\n",
      "min=0.000, parallel=0.0067, normal=0.0000, spring=0.0000, ashburner=0.000, tsmooth=0.000\n",
      "min=0.000, parallel=0.0075, normal=0.0000, spring=0.0000, ashburner=0.000, tsmooth=0.000\n",
      "-01: dt=0.0000,   0 negative triangles  VmPeak 1587544\n",
      "min=0.000, parallel=0.0066, normal=0.0000, spring=0.0000, ashburner=0.000, tsmooth=0.000\n",
      "ending sse = 6749.228627\n",
      "nrounds = 6\n",
      "***************** integrating with averages = 16, niter = 40, l_spring = 0.000 ***********************\n",
      "step 40 of 240     ***************** integrating with averages = 8, niter = 40, l_spring = 0.000 ***********************\n",
      "step 80 of 240     ***************** integrating with averages = 4, niter = 40, l_spring = 0.000 ***********************\n",
      "step 120 of 240     ***************** integrating with averages = 2, niter = 40, l_spring = 0.000 ***********************\n",
      "step 160 of 240     ***************** integrating with averages = 1, niter = 40, l_spring = 0.000 ***********************\n",
      "step 200 of 240     ***************** integrating with averages = 0, niter = 40, l_spring = 0.000 ***********************\n",
      "step 240 of 240     \n",
      "writing expanded surface to sub-wlsubj001/surf/rh.graymid...\n",
      "surface expansion took 13 minutes and 6 seconds.\n"
     ]
    },
    {
     "name": "stderr",
     "output_type": "stream",
     "text": [
      "total integrated curvature = 16.322*4pi (205.104) --> -15 handles\n",
      "ICI = 143.2, FI = 1218.0, variation=19942.620\n",
      "writing Gaussian curvature to sub-wlsubj001/surf/rh.graymid.K...done.\n",
      "writing mean curvature to sub-wlsubj001/surf/rh.graymid.H...done.\n"
     ]
    },
    {
     "name": "stdout",
     "output_type": "stream",
     "text": [
      "Preparing native surfaces for resampling if not available...\n",
      "Saving sub-wlsubj001/surf/rh.midthickness.surf.gii.temp10810.white.surf.gii as a surface\n",
      "Saving sub-wlsubj001/surf/rh.midthickness.surf.gii.temp10810.pial.surf.gii as a surface\n",
      "Saving sub-wlsubj001/surf/rh.sphere.reg.surf.gii as a surface\n",
      "Resampling native to fsaverage space...\n",
      "Execution time: 13 minutes\n",
      "Retinotopy prediction...\n"
     ]
    },
    {
     "name": "stderr",
     "output_type": "stream",
     "text": [
      "/opt/miniconda-py37_4.8.3/lib/python3.7/site-packages/torch_geometric/nn/conv/spline_conv.py:118: UserWarning: We do not recommend using the non-optimized CPU version of `SplineConv`. If possible, please move your data to GPU.\n",
      "  'We do not recommend using the non-optimized CPU version of '\n"
     ]
    },
    {
     "name": "stdout",
     "output_type": "stream",
     "text": [
      "Loading the dataset\n",
      "Processing...\n",
      "Done!\n",
      "Dataset loaded\n",
      "Time elapsed: 0.24621056765317917 minutes\n",
      "Loading model 1\n",
      "Saving .gii files in: /home/jovyan/shared/lec-03/data/freesurfersub-wlsubj001/deepRetinotopy/\n",
      "Predictions from model 1 were saved\n",
      "Time elapsed: 2.00151639059186 minutes\n",
      "Loading model 2\n",
      "Saving .gii files in: /home/jovyan/shared/lec-03/data/freesurfersub-wlsubj001/deepRetinotopy/\n",
      "Predictions from model 2 were saved\n",
      "Time elapsed: 1.8989524021744728 minutes\n",
      "Loading model 3\n",
      "Saving .gii files in: /home/jovyan/shared/lec-03/data/freesurfersub-wlsubj001/deepRetinotopy/\n",
      "Predictions from model 3 were saved\n",
      "Time elapsed: 1.892270315438509 minutes\n",
      "Loading model 4\n",
      "Saving .gii files in: /home/jovyan/shared/lec-03/data/freesurfersub-wlsubj001/deepRetinotopy/\n",
      "Predictions from model 4 were saved\n",
      "Time elapsed: 1.9009521342813969 minutes\n",
      "Loading model 5\n",
      "Saving .gii files in: /home/jovyan/shared/lec-03/data/freesurfersub-wlsubj001/deepRetinotopy/\n",
      "Predictions from model 5 were saved\n",
      "Time elapsed: 1.899166602641344 minutes\n",
      "Saving average predictions\n",
      "Average predictions were saved\n",
      "Resampling predictions to native space...\n",
      "Path: /home/jovyan/shared/lec-03/data/freesurfer\n",
      "Hemisphere: rh\n",
      "Map: polarAngle\n",
      "Model: model1\n",
      "Resampling fsaverage to native space...\n",
      "Path: /home/jovyan/shared/lec-03/data/freesurfer\n",
      "Hemisphere: rh\n",
      "Map: polarAngle\n",
      "Model: model2\n",
      "Resampling fsaverage to native space...\n",
      "Path: /home/jovyan/shared/lec-03/data/freesurfer\n",
      "Hemisphere: rh\n",
      "Map: polarAngle\n",
      "Model: model3\n",
      "Resampling fsaverage to native space...\n",
      "Path: /home/jovyan/shared/lec-03/data/freesurfer\n",
      "Hemisphere: rh\n",
      "Map: polarAngle\n",
      "Model: model4\n",
      "Resampling fsaverage to native space...\n",
      "Path: /home/jovyan/shared/lec-03/data/freesurfer\n",
      "Hemisphere: rh\n",
      "Map: polarAngle\n",
      "Model: model5\n",
      "Resampling fsaverage to native space...\n",
      "Path: /home/jovyan/shared/lec-03/data/freesurfer\n",
      "Hemisphere: rh\n",
      "Map: polarAngle\n",
      "Model: average\n",
      "Resampling fsaverage to native space...\n",
      "polarAngle predictions for rh are done!\n",
      "Retinotopy prediction...\n"
     ]
    },
    {
     "name": "stderr",
     "output_type": "stream",
     "text": [
      "/opt/miniconda-py37_4.8.3/lib/python3.7/site-packages/torch_geometric/nn/conv/spline_conv.py:118: UserWarning: We do not recommend using the non-optimized CPU version of `SplineConv`. If possible, please move your data to GPU.\n",
      "  'We do not recommend using the non-optimized CPU version of '\n"
     ]
    },
    {
     "name": "stdout",
     "output_type": "stream",
     "text": [
      "Loading the dataset\n",
      "Processing...\n",
      "Done!\n",
      "Dataset loaded\n",
      "Time elapsed: 0.2451774887740612 minutes\n",
      "Loading model 1\n",
      "Saving .gii files in: /home/jovyan/shared/lec-03/data/freesurfersub-wlsubj001/deepRetinotopy/\n",
      "Predictions from model 1 were saved\n",
      "Time elapsed: 1.957329899072647 minutes\n",
      "Loading model 2\n",
      "Saving .gii files in: /home/jovyan/shared/lec-03/data/freesurfersub-wlsubj001/deepRetinotopy/\n",
      "Predictions from model 2 were saved\n",
      "Time elapsed: 1.902265939861536 minutes\n",
      "Loading model 3\n",
      "Saving .gii files in: /home/jovyan/shared/lec-03/data/freesurfersub-wlsubj001/deepRetinotopy/\n",
      "Predictions from model 3 were saved\n",
      "Time elapsed: 1.8866022191941738 minutes\n",
      "Loading model 4\n",
      "Saving .gii files in: /home/jovyan/shared/lec-03/data/freesurfersub-wlsubj001/deepRetinotopy/\n",
      "Predictions from model 4 were saved\n",
      "Time elapsed: 1.88389952480793 minutes\n",
      "Loading model 5\n",
      "Saving .gii files in: /home/jovyan/shared/lec-03/data/freesurfersub-wlsubj001/deepRetinotopy/\n",
      "Predictions from model 5 were saved\n",
      "Time elapsed: 1.888087671250105 minutes\n",
      "Saving average predictions\n",
      "Average predictions were saved\n",
      "Resampling predictions to native space...\n",
      "Path: /home/jovyan/shared/lec-03/data/freesurfer\n",
      "Hemisphere: rh\n",
      "Map: eccentricity\n",
      "Model: model1\n",
      "Resampling fsaverage to native space...\n",
      "Path: /home/jovyan/shared/lec-03/data/freesurfer\n",
      "Hemisphere: rh\n",
      "Map: eccentricity\n",
      "Model: model2\n",
      "Resampling fsaverage to native space...\n",
      "Path: /home/jovyan/shared/lec-03/data/freesurfer\n",
      "Hemisphere: rh\n",
      "Map: eccentricity\n",
      "Model: model3\n",
      "Resampling fsaverage to native space...\n",
      "Path: /home/jovyan/shared/lec-03/data/freesurfer\n",
      "Hemisphere: rh\n",
      "Map: eccentricity\n",
      "Model: model4\n",
      "Resampling fsaverage to native space...\n",
      "Path: /home/jovyan/shared/lec-03/data/freesurfer\n",
      "Hemisphere: rh\n",
      "Map: eccentricity\n",
      "Model: model5\n",
      "Resampling fsaverage to native space...\n",
      "Path: /home/jovyan/shared/lec-03/data/freesurfer\n",
      "Hemisphere: rh\n",
      "Map: eccentricity\n",
      "Model: average\n",
      "Resampling fsaverage to native space...\n",
      "eccentricity predictions for rh are done!\n",
      "All done!\n"
     ]
    }
   ],
   "source": [
    "%%bash\n",
    "date_tag=20231223\n",
    "cd /cvmfs/neurodesk.ardc.edu.au/containers/deepretinotopy_1.0.2_\"$date_tag\"/deepretinotopy_1.0.2_$date_tag.simg/opt/deepRetinotopy_TheToolbox/\n",
    "bash deepRetinotopy.sh \\\n",
    "    -s /home/jovyan/shared/lec-03/data/freesurfer \\\n",
    "    -t /home/jovyan/shared/templates/ \\\n",
    "    -d hcp \\\n",
    "    -m \"polarAngle,eccentricity\""
   ]
  },
  {
   "cell_type": "code",
   "execution_count": null,
   "id": "3e216b0d-84f8-4b80-8463-e43c2f95334f",
   "metadata": {},
   "outputs": [],
   "source": []
  }
 ],
 "metadata": {
  "kernelspec": {
   "display_name": "Python [conda env:root] *",
   "language": "python",
   "name": "conda-root-py"
  },
  "language_info": {
   "codemirror_mode": {
    "name": "ipython",
    "version": 3
   },
   "file_extension": ".py",
   "mimetype": "text/x-python",
   "name": "python",
   "nbconvert_exporter": "python",
   "pygments_lexer": "ipython3",
   "version": "3.11.6"
  }
 },
 "nbformat": 4,
 "nbformat_minor": 5
}
